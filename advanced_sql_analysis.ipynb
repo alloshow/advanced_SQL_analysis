{
 "cells": [
  {
   "cell_type": "markdown",
   "id": "e1580709",
   "metadata": {},
   "source": [
    "### Продвинутый SQL. Часть 2. Аналитика.\n",
    "- Входные данные: базой данных StackOverflow — сервиса вопросов и ответов о программировании."
   ]
  },
  {
   "cell_type": "code",
   "execution_count": 2,
   "id": "8c2bb2fa",
   "metadata": {},
   "outputs": [
    {
     "data": {
      "text/html": [
       "<img src=\"https://pictures.s3.yandex.net/resources/Frame_353_1_1665399433.png\"/>"
      ],
      "text/plain": [
       "<IPython.core.display.Image object>"
      ]
     },
     "execution_count": 2,
     "metadata": {},
     "output_type": "execute_result"
    }
   ],
   "source": [
    "from IPython.display import Image\n",
    "from IPython.core.display import HTML\n",
    "Image(url= \"https://pictures.s3.yandex.net/resources/Frame_353_1_1665399433.png\")"
   ]
  },
  {
   "cell_type": "markdown",
   "id": "97125332",
   "metadata": {},
   "source": [
    "1.\n",
    "Выведите общую сумму просмотров постов за каждый месяц 2008 года. Если данных за какой-либо месяц в базе нет, такой месяц можно пропустить. Результат отсортируйте по убыванию общего количества просмотров."
   ]
  },
  {
   "cell_type": "code",
   "execution_count": null,
   "id": "2017b606",
   "metadata": {},
   "outputs": [],
   "source": [
    "SELECT date_trunc('month', creation_date)::date as month,\n",
    "       sum(views_count) as views\n",
    "FROM stackoverflow.posts\n",
    "GROUP BY month\n",
    "ORDER BY views DESC"
   ]
  },
  {
   "cell_type": "markdown",
   "id": "b99675c2",
   "metadata": {},
   "source": [
    "2.\n",
    "Выведите имена самых активных пользователей, которые в первый месяц после регистрации (включая день регистрации) дали больше 100 ответов. Вопросы, которые задавали пользователи, не учитывайте. Для каждого имени пользователя выведите количество уникальных значений user_id. Отсортируйте результат по полю с именами в лексикографическом порядке."
   ]
  },
  {
   "cell_type": "code",
   "execution_count": null,
   "id": "9275e396",
   "metadata": {},
   "outputs": [],
   "source": [
    "WITH s1 AS (SELECT  p.creation_date AS date_post,\n",
    "        t.type,\n",
    "        u.creation_date AS date_user,\n",
    "        p.user_id,\n",
    "        display_name\n",
    "FROM stackoverflow.posts p\n",
    "JOIN stackoverflow.users u ON u.id = p.user_id\n",
    "JOIN stackoverflow.post_types t ON t.id = p.post_type_id\n",
    "WHERE (DATE_TRUNC('day', p.creation_date) <= (DATE_TRUNC('day', u.creation_date) + INTERVAL '1 month')) AND type = 'Answer'), \n",
    "\n",
    "s2 AS (SELECT COUNT(DISTINCT(user_id)) AS sum_id,\n",
    "       display_name,\n",
    "       COUNT(type) AS sum_answers\n",
    "       FROM s1\n",
    "       GROUP BY display_name)\n",
    "\n",
    "SELECT sum_id, display_name\n",
    "FROM s2\n",
    "WHERE sum_answers > 100\n",
    ";"
   ]
  },
  {
   "cell_type": "markdown",
   "id": "3c6c4662",
   "metadata": {},
   "source": [
    "3.\n",
    "Выведите количество постов за 2008 год по месяцам. Отберите посты от пользователей, которые зарегистрировались в сентябре 2008 года и сделали хотя бы один пост в декабре того же года. Отсортируйте таблицу по значению месяца по убыванию."
   ]
  },
  {
   "cell_type": "code",
   "execution_count": null,
   "id": "b95f98d7",
   "metadata": {},
   "outputs": [],
   "source": [
    "WITH s1 AS (SELECT DATE_TRUNC('MONTH', p.creation_date)::date AS post_pub,\n",
    "       p.id AS post_id,\n",
    "       u.id AS user_id,\n",
    "       DATE_TRUNC('MONTH', u.creation_date)::date as month\n",
    "FROM stackoverflow.posts p\n",
    "JOIN stackoverflow.users u ON u.id = p.user_id\n",
    "WHERE u.id IN (SELECT u.id\n",
    "FROM stackoverflow.users u\n",
    "JOIN stackoverflow.posts p ON u.id = p.user_id\n",
    "WHERE DATE_TRUNC('MONTH', u.creation_date) = '2008-09-01'\n",
    "AND DATE_TRUNC('MONTH', p.creation_date) = '2008-12-01'))\n",
    "SELECT post_pub, COUNT(post_id)\n",
    "FROM s1\n",
    "GROUP BY post_pub\n",
    "ORDER BY post_pub DESC\n",
    ";"
   ]
  },
  {
   "cell_type": "markdown",
   "id": "f735fd34",
   "metadata": {},
   "source": [
    "4.\n",
    "Используя данные о постах, выведите несколько полей:\n",
    "- идентификатор пользователя, который написал пост;\n",
    "- дата создания поста;\n",
    "- количество просмотров у текущего поста;\n",
    "- сумму просмотров постов автора с накоплением.\n",
    "\n",
    "Данные в таблице должны быть отсортированы по возрастанию идентификаторов пользователей, а данные об одном и том же пользователе — по возрастанию даты создания поста."
   ]
  },
  {
   "cell_type": "code",
   "execution_count": null,
   "id": "4926ad62",
   "metadata": {},
   "outputs": [],
   "source": [
    "SELECT user_id,\n",
    "       creation_date,\n",
    "       views_count,\n",
    "       SUM(views_count) OVER (PARTITION BY user_id ORDER BY creation_date)\n",
    "FROM stackoverflow.posts \n",
    "ORDER BY user_id,\n",
    "         creation_date\n",
    ";"
   ]
  },
  {
   "cell_type": "markdown",
   "id": "25b05dd7",
   "metadata": {},
   "source": [
    "5.\n",
    "Сколько в среднем дней в период с 1 по 7 декабря 2008 года включительно пользователи взаимодействовали с платформой? Для каждого пользователя отберите дни, в которые он или она опубликовали хотя бы один пост. Нужно получить одно целое число — не забудьте округлить результат."
   ]
  },
  {
   "cell_type": "code",
   "execution_count": null,
   "id": "6ded2184",
   "metadata": {},
   "outputs": [],
   "source": [
    "SELECT ROUND(CAST(COUNT(dt) AS NUMERIC) / count(distinct (user_id)))\n",
    "FROM (SELECT DISTINCT(dt), user_id\n",
    "FROM (SELECT DATE_TRUNC('DAY', creation_date)::DATE dt, user_id\n",
    "FROM stackoverflow.posts\n",
    "WHERE (DATE_TRUNC('DAY', creation_date)::DATE BETWEEN '2008-12-01' AND '2008-12-07')) AS s1\n",
    "GROUP BY user_id, dt) AS s2;"
   ]
  },
  {
   "cell_type": "markdown",
   "id": "9535f54a",
   "metadata": {},
   "source": [
    "6.\n",
    "На сколько процентов менялось количество постов ежемесячно с 1 сентября по 31 декабря 2008 года? \n",
    "\n",
    "Отобразите таблицу со следующими полями:\n",
    "- номер месяца;\n",
    "- количество постов за месяц;\n",
    "- процент, который показывает, насколько изменилось количество постов в текущем месяце по сравнению с предыдущим.\n",
    "\n",
    "Если постов стало меньше, значение процента должно быть отрицательным, если больше — положительным. Округлите значение процента до двух знаков после запятой.\n",
    "\n",
    "Напомним, что при делении одного целого числа на другое в PostgreSQL в результате получится целое число, округлённое до ближайшего целого вниз. Чтобы этого избежать, переведите делимое в тип numeric."
   ]
  },
  {
   "cell_type": "code",
   "execution_count": null,
   "id": "93c2273c",
   "metadata": {},
   "outputs": [],
   "source": [
    "WITH s1 AS (SELECT DISTINCT EXTRACT(MONTH FROM creation_date) as cd, count(id) AS posts\n",
    "FROM stackoverflow.posts\n",
    "WHERE EXTRACT(MONTH FROM creation_date) BETWEEN '09' AND '12'\n",
    "GROUP BY cd)\n",
    "SELECT *, \n",
    "      ROUND(CAST((posts - LAG(posts, 1, NULL) OVER (ORDER BY cd)) AS numeric) / (LAG(posts, 1, NULL) OVER (ORDER BY cd)) *100, 2) AS percent\n",
    "FROM s1\n",
    ";"
   ]
  },
  {
   "cell_type": "markdown",
   "id": "0dcef05d",
   "metadata": {},
   "source": [
    "7.\n",
    "Выгрузите данные активности пользователя, который опубликовал больше всего постов за всё время. Выведите данные за октябрь 2008 года в таком виде:\n",
    "номер недели;\n",
    "дата и время последнего поста, опубликованного на этой неделе."
   ]
  },
  {
   "cell_type": "code",
   "execution_count": null,
   "id": "b736b3db",
   "metadata": {},
   "outputs": [],
   "source": [
    "SELECT DISTINCT(week), LAST_VALUE(creation_date) OVER (PARTITION BY week ORDER BY week) as last_p\n",
    "FROM (SELECT EXTRACT(WEEK FROM creation_date) as week, creation_date\n",
    "FROM stackoverflow.posts\n",
    "WHERE DATE_TRUNC('MONTH',creation_date) = '2008-10-01' AND\n",
    "user_id IN (\n",
    "    SELECT user_id\n",
    "    FROM stackoverflow.posts\n",
    "    GROUP BY user_id\n",
    "    ORDER BY count(id) DESC\n",
    "    LIMIT 1)) AS s2\n",
    "GROUP BY week,creation_date;"
   ]
  }
 ],
 "metadata": {
  "kernelspec": {
   "display_name": "Python 3 (ipykernel)",
   "language": "python",
   "name": "python3"
  },
  "language_info": {
   "codemirror_mode": {
    "name": "ipython",
    "version": 3
   },
   "file_extension": ".py",
   "mimetype": "text/x-python",
   "name": "python",
   "nbconvert_exporter": "python",
   "pygments_lexer": "ipython3",
   "version": "3.9.12"
  }
 },
 "nbformat": 4,
 "nbformat_minor": 5
}
